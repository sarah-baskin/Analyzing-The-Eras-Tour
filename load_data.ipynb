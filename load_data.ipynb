{
 "cells": [
  {
   "cell_type": "code",
   "execution_count": 18,
   "metadata": {},
   "outputs": [],
   "source": [
    "import os\n",
    "import pandas as pd\n",
    "import nltk\n",
    "import string\n",
    "import contractions"
   ]
  },
  {
   "cell_type": "code",
   "execution_count": 19,
   "metadata": {},
   "outputs": [
    {
     "name": "stdout",
     "output_type": "stream",
     "text": [
      "{'whom', 'after', 'only', 'no', \"won't\", 'ours', 'but', 'not', 'to', 'above', 'are', 'by', 'over', 'were', 'through', \"mightn't\", 'with', 'this', \"shouldn't\", 'me', 'while', 'again', 'between', 'wasn', 'y', \"you'd\", 'himself', 'do', 'because', \"you're\", 'against', 't', 'then', 'him', 'up', 'in', 're', 'being', 'off', \"wouldn't\", 'mightn', 'out', 'm', 'how', 'you', 'shouldn', 'am', 'his', 'or', 'same', 'so', 'your', 'yourself', 'few', 'has', 'from', 'be', 'before', 'theirs', 'doesn', 'themselves', 'than', 'haven', 'wouldn', 'some', 'didn', 'don', 'each', 'll', \"couldn't\", 'as', 'there', 'was', 'hasn', 'into', 'what', 'at', \"hadn't\", 've', 'who', 'did', 'shan', 'during', 'their', 'itself', 'hadn', 'under', 'both', \"isn't\", 'had', 'weren', \"needn't\", 'most', 'myself', 'why', 'he', \"that'll\", 'we', 'that', 'nor', 'couldn', 'd', 'when', \"you'll\", 'been', 'more', 'own', 'my', 'o', 'can', \"don't\", 'and', \"shan't\", 'on', 'a', 'them', 'these', 'once', 'she', 'i', 'now', 'ma', 'hers', 's', 'very', 'is', 'does', \"aren't\", 'herself', 'they', 'the', 'having', 'further', 'other', 'won', 'needn', 'down', 'those', 'any', \"it's\", 'yourselves', \"she's\", 'ain', 'aren', 'it', 'its', 'yours', 'should', 'for', 'her', 'until', \"weren't\", \"haven't\", 'about', 'will', \"you've\", 'doing', 'ourselves', 'which', 'here', 'such', 'our', 'where', 'too', 'an', 'all', 'below', 'mustn', 'have', 'just', \"didn't\", 'isn', \"mustn't\", \"doesn't\", \"wasn't\", 'of', \"hasn't\", 'if', \"should've\"}\n"
     ]
    }
   ],
   "source": [
    "stop_words = set(nltk.corpus.stopwords.words('english'))\n",
    "print(stop_words)"
   ]
  },
  {
   "cell_type": "code",
   "execution_count": 20,
   "metadata": {},
   "outputs": [],
   "source": [
    "albums = [\"Taylor Swift\", \"Fearless (Taylor's Version)\", \"Speak Now (Taylor's Version)\", \n",
    "          \"Red (Taylor's Version)\", \"1989 (Taylor's Version)\", \"reputation\", \"Lover\", \n",
    "          \"Midnights\", \"folklore\", \"evermore\", \"The Tortured Poets Department\"]"
   ]
  },
  {
   "cell_type": "code",
   "execution_count": 21,
   "metadata": {},
   "outputs": [],
   "source": [
    "df = pd.read_csv('songs.csv')\n"
   ]
  },
  {
   "cell_type": "code",
   "execution_count": 22,
   "metadata": {},
   "outputs": [],
   "source": [
    "in_album = df[df['Album'].isin(albums)]\n",
    "df = in_album"
   ]
  },
  {
   "cell_type": "code",
   "execution_count": 23,
   "metadata": {},
   "outputs": [],
   "source": [
    "lemmatizer = nltk.WordNetLemmatizer()\n",
    "\n",
    "within_description = 0\n",
    "for lyric in df['Lyrics']:\n",
    "    word_list=lyric.split()\n",
    "    word_data = \"\"\n",
    "    for word in word_list:\n",
    "        if \"[\" or \"]\" in word:\n",
    "            if \"[\" in word and not(\"]\" in word):\n",
    "                within_description = 1\n",
    "            elif \"]\" in word and not(\"[\" in word):\n",
    "                within_description = 0\n",
    "            elif \"[\" in word and \"]\" in word:\n",
    "                within_description = 0\n",
    "            if \"(\" in word and not(\")\" in word):\n",
    "                within_description = 1\n",
    "            elif \")\" in word and not(\"(\" in word):\n",
    "                within_description = 0\n",
    "            elif \"(\" in word and \")\" in word:\n",
    "                within_description = 0\n",
    "        if not(\"]\" in word or \"[\" in word or \"(\" in word or \")\" in word) and not(within_description):\n",
    "            for contraction in contractions.contractions_dict.keys():\n",
    "                if contraction.lower() in word.lower():\n",
    "                    word = contractions.fix(word)\n",
    "            word_data += word + \" \"\n",
    "\n",
    "    nltk_tokens = nltk.word_tokenize(text=word_data, language='english', preserve_line=True)\n",
    "\n",
    "    pronouns_and_not = ['i', 'me', 'my', 'myself', 'we', 'our', 'ours', 'ourselves', 'you', 'your', \n",
    "            'yours', 'yourself', 'yourselves', 'he', 'him', 'his', 'himself', 'she', 'her', \n",
    "            'hers', 'herself', 'it', 'its', 'itself', 'they', 'them', 'their', 'theirs', 'themselves', 'not', 'no',\n",
    "            'should', 'be', 'am', 'are', 'is', 'were', 'was', 'being', 'been', 'have', 'whom', 'after', 'only', 'above', \n",
    "            'over', 'through', 'with', 'again', 'between', 'because', 'against', 'then', 'off', 'out', 'how', 'same', 'few', 'has', 'from',\n",
    "            'before', 'than', 'some', 'each', 'there', 'into', 'during', 'under', 'both', 'had', 'most', 'when', 'more', 'own', 'once', 'very',\n",
    "            'having', 'further', 'other', 'down', 'any', 'should', 'until', 'about', 'will', 'doing', 'do', 'here', 'such', 'too', 'all', 'below',\n",
    "            'just']\n",
    "    \n",
    "    exclude = ['was', 'us']\n",
    "    \n",
    "    stop_words = [word for word in stop_words if word not in pronouns_and_not]\n",
    "\n",
    "    nltk_tokens = [token.lower() for token in nltk_tokens if token.lower() not in stop_words]\n",
    "    nltk_tokens = [token for token in nltk_tokens if token not in string.punctuation]\n",
    "    nltk_tokens = [token if token != exclude else lemmatizer.lemmatize(token) for token in nltk_tokens ]\n",
    "    nltk_tokens = [token for token in nltk_tokens if token != \"''\" and \n",
    "                   token != \"``\" and token != \"'s\" and token != \"'d\" and token != \"oh\"\n",
    "                   and token != \"hey\" and token != \"'m\" and token != \"mm\" and token != \"oh-oh\"\n",
    "                   and token != \"oh-oh-oh\" and token != \"mmm\" and token != \"ooh\" and token != \"ooh-oh\"\n",
    "                   and token != \"mm-mm\" and token != \"la\" and token != \"ah-ah\" and token != \"ha\"\n",
    "                   and token != \"ha-ah\" and token != \"di\" and token != \"da\" and token != \"da-da\" and token != \"uh-huh\"\n",
    "                   and token != \"ra-di-di-di-di-di-di-di-di-di-da-da\" and token != \"ah-ah-ah-ah-ah\" and token != \"ah-ah-ah\" and token != \"ah-ah-ah-ah\"\n",
    "                   and token != \"ah-ah-ah-ah-ah-ah\" and token != \"ah\" and token != \"eh\" and token != \"uh-uh\" and token != \"ooh-woo-ooh-ooh-ooh\" and token != \"ooh-ooh-ooh-ooh\"\n",
    "                   and token != \"ooh-ooh-ooh\" and token != \"la-la-la\" and token != \"la-la-la-la\" and token != \"woah\"]\n",
    "    nltk_tokens = [\"i\" if token in {\"i-i-i-i\", \"i-i\", \"i-i-i\"} else token for token in nltk_tokens]\n",
    "    \n",
    "    lyric_column = df['Lyrics'] == lyric\n",
    "    row_index = df.index[lyric_column]\n",
    "    title = df[df['Lyrics'] == lyric]['Title'].values[0]\n",
    "    album = df[df['Lyrics'] == lyric]['Album'].values[0]\n",
    "    file_path = 'songs_excl_ftv/'+ album\n",
    "    if not os.path.exists(file_path):\n",
    "        os.makedirs(file_path)\n",
    "    song = os.path.join(file_path, f\"{title}.txt\")\n",
    "    if not(\"[From the Vault]\" in title or \"[From The Vault]\" in title or \"(Remix)\" in title):\n",
    "        with open(song, \"w\", encoding=\"utf-8\") as f:\n",
    "            literal = \"\\n\".join(nltk_tokens)\n",
    "            f.write(literal)\n",
    "        \n",
    "\n"
   ]
  }
 ],
 "metadata": {
  "kernelspec": {
   "display_name": "cosi114a",
   "language": "python",
   "name": "python3"
  },
  "language_info": {
   "codemirror_mode": {
    "name": "ipython",
    "version": 3
   },
   "file_extension": ".py",
   "mimetype": "text/x-python",
   "name": "python",
   "nbconvert_exporter": "python",
   "pygments_lexer": "ipython3",
   "version": "3.11.4"
  },
  "orig_nbformat": 4
 },
 "nbformat": 4,
 "nbformat_minor": 2
}
