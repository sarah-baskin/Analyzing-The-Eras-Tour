{
 "cells": [
  {
   "cell_type": "code",
   "execution_count": 40,
   "metadata": {},
   "outputs": [],
   "source": [
    "import os\n",
    "import pandas as pd\n",
    "import nltk\n",
    "import string\n",
    "import contractions"
   ]
  },
  {
   "cell_type": "code",
   "execution_count": 41,
   "metadata": {},
   "outputs": [],
   "source": [
    "stop_words = set(nltk.corpus.stopwords.words('english'))"
   ]
  },
  {
   "cell_type": "code",
   "execution_count": 42,
   "metadata": {},
   "outputs": [],
   "source": [
    "albums = [\"Taylor Swift\", \"Fearless (Taylor's Version)\", \"Speak Now (Taylor's Version)\", \n",
    "          \"Red (Taylor's Version)\", \"1989 (Taylor's Version)\", \"reputation\", \"Lover\", \n",
    "          \"Midnights\", \"folklore\", \"evermore\", \"The Tortured Poets Department\"]"
   ]
  },
  {
   "cell_type": "code",
   "execution_count": 43,
   "metadata": {},
   "outputs": [],
   "source": [
    "df = pd.read_csv('songs.csv')\n"
   ]
  },
  {
   "cell_type": "code",
   "execution_count": 44,
   "metadata": {},
   "outputs": [],
   "source": [
    "in_album = df[df['Album'].isin(albums)]\n",
    "df = in_album"
   ]
  },
  {
   "cell_type": "code",
   "execution_count": 45,
   "metadata": {},
   "outputs": [],
   "source": [
    "lemmatizer = nltk.WordNetLemmatizer()\n",
    "\n",
    "within_description = 0\n",
    "for lyric in df['Lyrics']:\n",
    "    word_list=lyric.split()\n",
    "    word_data = \"\"\n",
    "    for word in word_list:\n",
    "        if \"[\" or \"]\" in word:\n",
    "            if \"[\" in word and not(\"]\" in word):\n",
    "                within_description = 1\n",
    "            elif \"]\" in word and not(\"[\" in word):\n",
    "                within_description = 0\n",
    "            elif \"[\" in word and \"]\" in word:\n",
    "                within_description = 0\n",
    "            if \"(\" in word and not(\")\" in word):\n",
    "                within_description = 1\n",
    "            elif \")\" in word and not(\"(\" in word):\n",
    "                within_description = 0\n",
    "            elif \"(\" in word and \")\" in word:\n",
    "                within_description = 0\n",
    "        if not(\"]\" in word or \"[\" in word or \"(\" in word or \")\" in word) and not(within_description):\n",
    "            for contraction in contractions.contractions_dict.keys():\n",
    "                if contraction.lower() in word.lower():\n",
    "                    word = contractions.fix(word)\n",
    "            word_data += word + \" \"\n",
    "\n",
    "    nltk_tokens = nltk.word_tokenize(text=word_data, language='english', preserve_line=True)\n",
    "    \n",
    "    nltk_tokens = [token.lower() for token in nltk_tokens if token.lower() not in stop_words]\n",
    "    nltk_tokens = [token for token in nltk_tokens if token not in string.punctuation]\n",
    "    nltk_tokens = [lemmatizer.lemmatize(token) for token in nltk_tokens]\n",
    "    nltk_tokens = [token for token in nltk_tokens if token != \"''\" and \n",
    "                   token != \"``\" and token != \"'s\" and token != \"'d\" and token != \"oh\"\n",
    "                   and token != \"hey\" and token != \"'m\" and token != \"mm\" and token != \"oh-oh\"\n",
    "                   and token != \"oh-oh-oh\" and token != \"mmm\" and token != \"ooh\" and token != \"ooh-oh\"\n",
    "                   and token != \"mm-mm\" and token != \"la\" and token != \"ah-ah\" and token != \"ha\"\n",
    "                   and token != \"ha-ah\" and token != \"di\" and token != \"da\" and token != \"da-da\" and token != \"uh-huh\"\n",
    "                   and token != \"ra-di-di-di-di-di-di-di-di-di-da-da\"]\n",
    "\n",
    "    lyric_column = df['Lyrics'] == lyric\n",
    "    row_index = df.index[lyric_column]\n",
    "    title = df[df['Lyrics'] == lyric]['Title'].values[0]\n",
    "    album = df[df['Lyrics'] == lyric]['Album'].values[0]\n",
    "    file_path = 'Songs/'+ album\n",
    "    if not os.path.exists(file_path):\n",
    "        os.makedirs(file_path)\n",
    "    song = os.path.join(file_path, f\"{title}.txt\")\n",
    "    if \"(Remix)\" not in song:\n",
    "        with open(song, \"w\", encoding=\"utf-8\") as f:\n",
    "            literal = \"\\n\".join(nltk_tokens)\n",
    "            f.write(literal)\n",
    "\n"
   ]
  }
 ],
 "metadata": {
  "kernelspec": {
   "display_name": "cosi114a",
   "language": "python",
   "name": "python3"
  },
  "language_info": {
   "codemirror_mode": {
    "name": "ipython",
    "version": 3
   },
   "file_extension": ".py",
   "mimetype": "text/x-python",
   "name": "python",
   "nbconvert_exporter": "python",
   "pygments_lexer": "ipython3",
   "version": "3.11.4"
  },
  "orig_nbformat": 4
 },
 "nbformat": 4,
 "nbformat_minor": 2
}
