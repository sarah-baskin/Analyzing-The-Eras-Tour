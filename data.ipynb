{
 "cells": [
  {
   "cell_type": "code",
   "execution_count": 1,
   "metadata": {},
   "outputs": [],
   "source": [
    "import os\n",
    "import pandas as pd\n",
    "import nltk\n",
    "import random"
   ]
  },
  {
   "cell_type": "code",
   "execution_count": 2,
   "metadata": {},
   "outputs": [],
   "source": [
    "albums = [\"Taylor Swift\", \"Fearless (Taylor's Version)\", \"Speak Now (Taylor's Version)\", \n",
    "          \"Red (Taylor's Version)\", \"1989 (Taylor's Version)\", \"reputation\", \"Lover\", \n",
    "          \"Midnights\", \"folklore\", \"evermore\", \"The Tortured Poets Department\"]"
   ]
  },
  {
   "cell_type": "code",
   "execution_count": 3,
   "metadata": {},
   "outputs": [],
   "source": [
    "df = pd.read_csv('songs.csv')\n"
   ]
  },
  {
   "cell_type": "code",
   "execution_count": 4,
   "metadata": {},
   "outputs": [],
   "source": [
    "in_album = df[df['Album'].isin(albums)]\n",
    "df = in_album"
   ]
  },
  {
   "cell_type": "code",
   "execution_count": 5,
   "metadata": {},
   "outputs": [],
   "source": [
    "for lyric in df['Lyrics']:\n",
    "    word_list=lyric.split()\n",
    "    word_data = ''\n",
    "    for word in word_list:\n",
    "        if not(\"]\" in word or \"[\" in word):\n",
    "            word_data += word + \" \"\n",
    "    nltk_tokens = nltk.word_tokenize(text=word_data, language='English', preserve_line=True)\n",
    "    nltk_tokens = [token.lower() for token in nltk_tokens]\n",
    "    lyric_column = df['Lyrics'] == lyric\n",
    "    row_index = df.index[lyric_column]\n",
    "    title = df[df['Lyrics'] == lyric]['Title'].values[0]\n",
    "    album = df[df['Lyrics'] == lyric]['Album'].values[0]\n",
    "    file_path = 'Songs/'+ album\n",
    "    if not os.path.exists(file_path):\n",
    "        os.makedirs(file_path)\n",
    "    song = os.path.join(file_path, title)\n",
    "    with open(song, \"w\") as f:\n",
    "        f.write('\\n'.join(nltk_tokens))\n",
    "\n"
   ]
  }
 ],
 "metadata": {
  "kernelspec": {
   "display_name": "Python 3",
   "language": "python",
   "name": "python3"
  },
  "language_info": {
   "codemirror_mode": {
    "name": "ipython",
    "version": 3
   },
   "file_extension": ".py",
   "mimetype": "text/x-python",
   "name": "python",
   "nbconvert_exporter": "python",
   "pygments_lexer": "ipython3",
   "version": "3.11.4"
  },
  "orig_nbformat": 4
 },
 "nbformat": 4,
 "nbformat_minor": 2
}
